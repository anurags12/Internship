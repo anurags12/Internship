{
 "cells": [
  {
   "cell_type": "markdown",
   "id": "9b83a14d",
   "metadata": {},
   "source": [
    "# Pattern and functions of Regular Expression Assignment Questions"
   ]
  },
  {
   "cell_type": "code",
   "execution_count": 1,
   "id": "fbcdd178",
   "metadata": {},
   "outputs": [],
   "source": [
    "import re\n",
    "import pandas as pd\n",
    "import warnings\n",
    "warnings.filterwarnings('ignore')"
   ]
  },
  {
   "cell_type": "markdown",
   "id": "bda99786",
   "metadata": {},
   "source": [
    "# 1"
   ]
  },
  {
   "cell_type": "raw",
   "id": "17eb7ef7",
   "metadata": {},
   "source": [
    "Write a Python program to replace all occurrences of a space, comma, or dot with a colon.\n",
    "Sample Text- 'Python Exercises, PHP exercises.'\n",
    "Expected Output: Python:Exercises::PHP:exercises:"
   ]
  },
  {
   "cell_type": "code",
   "execution_count": 15,
   "id": "cfac8283",
   "metadata": {},
   "outputs": [
    {
     "name": "stdout",
     "output_type": "stream",
     "text": [
      "Python:Exercise::PHP:exercises:\n"
     ]
    }
   ],
   "source": [
    "text='Python Exercise, PHP exercises.'\n",
    "for line in range(1):\n",
    "    result=re.sub(r'[^\\w]',r':',text)\n",
    "    print(result)"
   ]
  },
  {
   "cell_type": "markdown",
   "id": "ebc1cb29",
   "metadata": {},
   "source": [
    "# 2"
   ]
  },
  {
   "cell_type": "raw",
   "id": "2ee46659",
   "metadata": {},
   "source": [
    "Create a dataframe using the dictionary below and remove everything (commas (,), !, XXXX, ;, etc.) from the columns except words.\n",
    "Dictionary- {'SUMMARY' : ['hello, world!', 'XXXXX test', '123four, five:; six...']}\n",
    "Expected output-\n",
    "0      hello world\n",
    "1             test\n",
    "2    four five six"
   ]
  },
  {
   "cell_type": "code",
   "execution_count": 18,
   "id": "b8b55d05",
   "metadata": {},
   "outputs": [
    {
     "data": {
      "text/html": [
       "<div>\n",
       "<style scoped>\n",
       "    .dataframe tbody tr th:only-of-type {\n",
       "        vertical-align: middle;\n",
       "    }\n",
       "\n",
       "    .dataframe tbody tr th {\n",
       "        vertical-align: top;\n",
       "    }\n",
       "\n",
       "    .dataframe thead th {\n",
       "        text-align: right;\n",
       "    }\n",
       "</style>\n",
       "<table border=\"1\" class=\"dataframe\">\n",
       "  <thead>\n",
       "    <tr style=\"text-align: right;\">\n",
       "      <th></th>\n",
       "      <th>SUMMARY</th>\n",
       "    </tr>\n",
       "  </thead>\n",
       "  <tbody>\n",
       "    <tr>\n",
       "      <th>0</th>\n",
       "      <td>hello world!</td>\n",
       "    </tr>\n",
       "    <tr>\n",
       "      <th>1</th>\n",
       "      <td>XXXXX test</td>\n",
       "    </tr>\n",
       "    <tr>\n",
       "      <th>2</th>\n",
       "      <td>123four,five:;six...</td>\n",
       "    </tr>\n",
       "  </tbody>\n",
       "</table>\n",
       "</div>"
      ],
      "text/plain": [
       "                SUMMARY\n",
       "0          hello world!\n",
       "1            XXXXX test\n",
       "2  123four,five:;six..."
      ]
     },
     "execution_count": 18,
     "metadata": {},
     "output_type": "execute_result"
    }
   ],
   "source": [
    "dict1={'SUMMARY':['hello world!','XXXXX test','123four,five:;six...']}\n",
    "df=pd.DataFrame(dict1)\n",
    "df"
   ]
  },
  {
   "cell_type": "code",
   "execution_count": 20,
   "id": "5a87889a",
   "metadata": {},
   "outputs": [
    {
     "data": {
      "text/plain": [
       "0       hello world \n",
       "1               test\n",
       "2     four five six \n",
       "Name: SUMMARY, dtype: object"
      ]
     },
     "execution_count": 20,
     "metadata": {},
     "output_type": "execute_result"
    }
   ],
   "source": [
    "pattern=r'\\W+|X+|\\d+'\n",
    "df1=df['SUMMARY'].str.replace(pattern,\" \")\n",
    "df1"
   ]
  },
  {
   "cell_type": "markdown",
   "id": "28bf7619",
   "metadata": {},
   "source": [
    "# 3"
   ]
  },
  {
   "cell_type": "raw",
   "id": "025b7792",
   "metadata": {},
   "source": [
    "Create a function in python to find all words that are at least 4 characters long in a string.\n",
    "The use of the re.compile() method is mandatory."
   ]
  },
  {
   "cell_type": "code",
   "execution_count": 21,
   "id": "c722aaa4",
   "metadata": {},
   "outputs": [
    {
     "name": "stdout",
     "output_type": "stream",
     "text": [
      "['Mumbai', 'Indians', 'Chennai', 'Super', 'Kings', 'most', 'successful', 'team']\n"
     ]
    }
   ],
   "source": [
    "def w4(text):\n",
    "    pattern=re.compile(r'\\w{4,}')\n",
    "    result=pattern.findall(text)\n",
    "    print(result)\n",
    "    \n",
    "line='Mumbai Indians and Chennai Super Kings are the most successful team of the IPL.'\n",
    "w4(line)"
   ]
  },
  {
   "cell_type": "markdown",
   "id": "56b8dc25",
   "metadata": {},
   "source": [
    "# 4"
   ]
  },
  {
   "cell_type": "raw",
   "id": "ee7be221",
   "metadata": {},
   "source": [
    "Create a function in python to find all three, four, and five character words in a string.\n",
    "The use of the re.compile() method is mandatory."
   ]
  },
  {
   "cell_type": "code",
   "execution_count": 22,
   "id": "2c1f2c8b",
   "metadata": {},
   "outputs": [],
   "source": [
    "def three_to_five(text):\n",
    "    pattern=re.compile(r'\\w{3,5}')\n",
    "    result=pattern.findall(text)\n",
    "    print(result)"
   ]
  },
  {
   "cell_type": "code",
   "execution_count": 23,
   "id": "355e550b",
   "metadata": {},
   "outputs": [
    {
     "name": "stdout",
     "output_type": "stream",
     "text": [
      "['Mumba', 'India', 'and', 'Chenn', 'Super', 'Kings', 'are', 'the', 'most', 'succe', 'ssful', 'team', 'the', 'IPL']\n"
     ]
    }
   ],
   "source": [
    "three_to_five(line)"
   ]
  },
  {
   "cell_type": "markdown",
   "id": "5a7b0163",
   "metadata": {},
   "source": [
    "# 5"
   ]
  },
  {
   "cell_type": "raw",
   "id": "2f02dada",
   "metadata": {},
   "source": [
    "Create a function in Python to remove the parenthesis in a list of strings.\n",
    "The use of the re.compile() method is mandatory.\n",
    "Sample Text: [\"example (.com)\", \"hr@fliprobo (.com)\", \"github (.com)\", \"Hello (Data Science World)\", \"Data (Scientist)\"]\n",
    "Expected Output:\n",
    "example.com\n",
    "hr@fliprobo.com\n",
    "github.com\n",
    "Hello Data Science World\n",
    "Data Scientist"
   ]
  },
  {
   "cell_type": "code",
   "execution_count": 54,
   "id": "b133379c",
   "metadata": {},
   "outputs": [],
   "source": [
    "def reparan(text):\n",
    "    pattern=re.compile(r'[()]')\n",
    "    for p in text:\n",
    "        result=pattern.sub('',p)\n",
    "        print(result)"
   ]
  },
  {
   "cell_type": "code",
   "execution_count": 55,
   "id": "8f1066e1",
   "metadata": {},
   "outputs": [
    {
     "name": "stdout",
     "output_type": "stream",
     "text": [
      "example.com\n",
      "hr@fliprobo.com\n",
      "github.com\n",
      "Hello Data Science World\n",
      "Data Scientist\n"
     ]
    }
   ],
   "source": [
    "text=['example(.com)','hr@fliprobo(.com)','github(.com)','Hello (Data Science World)','Data (Scientist)']\n",
    "reparan(text)"
   ]
  },
  {
   "cell_type": "markdown",
   "id": "4f3cee34",
   "metadata": {},
   "source": [
    "# 6"
   ]
  },
  {
   "cell_type": "raw",
   "id": "ef809fec",
   "metadata": {},
   "source": [
    "Write a python program to remove the parenthesis area from the text stored in the text file using Regular Expression.\n",
    "Sample Text: [\"example (.com)\", \"hr@fliprobo (.com)\", \"github (.com)\", \"Hello (Data Science World)\", \"Data (Scientist)\"]\n",
    "Expected Output: [\"example\", \"hr@fliprobo\", \"github\", \"Hello\", \"Data\"]\n",
    "Note- Store given sample text in the text file and then to remove the parenthesis area from the text."
   ]
  },
  {
   "cell_type": "code",
   "execution_count": 114,
   "id": "df0b6302",
   "metadata": {
    "scrolled": true
   },
   "outputs": [
    {
     "data": {
      "text/plain": [
       "98"
      ]
     },
     "execution_count": 114,
     "metadata": {},
     "output_type": "execute_result"
    }
   ],
   "source": [
    "text=open('C:/Fliprobo/text1.txt','w')\n",
    "text.write(\"'example(.com)','hr@fliprobo(.com)','github(.com)','Hello (Data Science World)','Data (Scientist)'\")"
   ]
  },
  {
   "cell_type": "code",
   "execution_count": 115,
   "id": "39efeac2",
   "metadata": {},
   "outputs": [],
   "source": [
    "text.close()"
   ]
  },
  {
   "cell_type": "code",
   "execution_count": 116,
   "id": "2507f24d",
   "metadata": {},
   "outputs": [
    {
     "name": "stdout",
     "output_type": "stream",
     "text": [
      "'example','hr@fliprobo','github','Hello ','Data '\n"
     ]
    }
   ],
   "source": [
    "with open('C:/Fliprobo/text1.txt')as file:\n",
    "    for line in file:\n",
    "        pattern=r'\\(\\.\\w+[)]+|\\([A-Za-z\\s]+[)]+'\n",
    "        result=re.sub(pattern,'',line)\n",
    "        print(result)"
   ]
  },
  {
   "cell_type": "markdown",
   "id": "8a227dfc",
   "metadata": {},
   "source": [
    "# 7"
   ]
  },
  {
   "cell_type": "raw",
   "id": "8a6008db",
   "metadata": {},
   "source": [
    "Write a regular expression in Python to split a string into uppercase letters.\n",
    "Sample text: “ImportanceOfRegularExpressionsInPython”\n",
    "Expected Output: [‘Importance’, ‘Of’, ‘Regular’, ‘Expression’, ‘In’, ‘Python’]"
   ]
  },
  {
   "cell_type": "code",
   "execution_count": 125,
   "id": "0ce3e899",
   "metadata": {},
   "outputs": [
    {
     "data": {
      "text/plain": [
       "['Importance', 'Of', 'Regular', 'Expression', 'In', 'Python']"
      ]
     },
     "execution_count": 125,
     "metadata": {},
     "output_type": "execute_result"
    }
   ],
   "source": [
    "text=\"ImportanceOfRegularExpressionInPython\"\n",
    "pattern=r'([A-Z][a-z]+)'\n",
    "result=re.findall(pattern,text)\n",
    "result"
   ]
  },
  {
   "cell_type": "markdown",
   "id": "49f8a3ad",
   "metadata": {},
   "source": [
    "# 8"
   ]
  },
  {
   "cell_type": "raw",
   "id": "05382de5",
   "metadata": {},
   "source": [
    "Create a function in python to insert spaces between words starting with numbers.\n",
    "Sample Text: “RegularExpression1IsAn2ImportantTopic3InPython\"\n",
    "Expected Output: RegularExpression 1IsAn 2ImportantTopic 3InPython"
   ]
  },
  {
   "cell_type": "code",
   "execution_count": 168,
   "id": "f5cd2eb6",
   "metadata": {},
   "outputs": [],
   "source": [
    "def space(text):\n",
    "    pattern=r'(\\d[A-Za-z]+)'\n",
    "    result=re.sub(pattern,r' \\1',text)\n",
    "    print(result)"
   ]
  },
  {
   "cell_type": "code",
   "execution_count": 156,
   "id": "69b28618",
   "metadata": {},
   "outputs": [
    {
     "data": {
      "text/plain": [
       "['1Is', '2ImportantTopic', '3InPython']"
      ]
     },
     "execution_count": 156,
     "metadata": {},
     "output_type": "execute_result"
    }
   ],
   "source": [
    "pattern=r'(\\d[A-Za-z]+)'\n",
    "re.findall(pattern,line)"
   ]
  },
  {
   "cell_type": "code",
   "execution_count": 169,
   "id": "3922014d",
   "metadata": {
    "scrolled": true
   },
   "outputs": [
    {
     "name": "stdout",
     "output_type": "stream",
     "text": [
      "RegularExpression 1IsAn 2ImportantTopic 3InPython\n"
     ]
    }
   ],
   "source": [
    "line='RegularExpression1IsAn2ImportantTopic3InPython'\n",
    "space(line)"
   ]
  },
  {
   "cell_type": "markdown",
   "id": "6993deb7",
   "metadata": {},
   "source": [
    "# 9"
   ]
  },
  {
   "cell_type": "raw",
   "id": "22065622",
   "metadata": {},
   "source": [
    "Create a function in python to insert spaces between words starting with capital letters or with numbers.\n",
    "Sample Text: “RegularExpression1IsAn2ImportantTopic3InPython\"\n",
    "Expected Output:  RegularExpression 1 IsAn 2 ImportantTopic 3 InPython"
   ]
  },
  {
   "cell_type": "code",
   "execution_count": 170,
   "id": "031af166",
   "metadata": {},
   "outputs": [
    {
     "name": "stdout",
     "output_type": "stream",
     "text": [
      "RegularExpression 1 IsAn 2 ImportantTopic 3 InPython\n"
     ]
    }
   ],
   "source": [
    "def spacenumdigit(text):\n",
    "    pattern=r'(\\d)([A-Za-z]+)'\n",
    "    result=re.sub(pattern,r' \\1 \\2',text)\n",
    "    print(result)\n",
    "    \n",
    "line='RegularExpression1IsAn2ImportantTopic3InPython'\n",
    "spacenumdigit(line)"
   ]
  },
  {
   "cell_type": "markdown",
   "id": "e1d7b385",
   "metadata": {},
   "source": [
    "# 10"
   ]
  },
  {
   "cell_type": "raw",
   "id": "1e194011",
   "metadata": {},
   "source": [
    "Use the github link below to read the data and create a dataframe. After creating the dataframe extract the first 6 letters of each country and store in the dataframe under a new column called first_five_letters.\n",
    "Github Link-  https://raw.githubusercontent.com/dsrscientist/DSData/master/happiness_score_dataset.csv"
   ]
  },
  {
   "cell_type": "code",
   "execution_count": 171,
   "id": "49ad5a45",
   "metadata": {},
   "outputs": [
    {
     "data": {
      "text/html": [
       "<div>\n",
       "<style scoped>\n",
       "    .dataframe tbody tr th:only-of-type {\n",
       "        vertical-align: middle;\n",
       "    }\n",
       "\n",
       "    .dataframe tbody tr th {\n",
       "        vertical-align: top;\n",
       "    }\n",
       "\n",
       "    .dataframe thead th {\n",
       "        text-align: right;\n",
       "    }\n",
       "</style>\n",
       "<table border=\"1\" class=\"dataframe\">\n",
       "  <thead>\n",
       "    <tr style=\"text-align: right;\">\n",
       "      <th></th>\n",
       "      <th>Country</th>\n",
       "      <th>Region</th>\n",
       "      <th>Happiness Rank</th>\n",
       "      <th>Happiness Score</th>\n",
       "      <th>Standard Error</th>\n",
       "      <th>Economy (GDP per Capita)</th>\n",
       "      <th>Family</th>\n",
       "      <th>Health (Life Expectancy)</th>\n",
       "      <th>Freedom</th>\n",
       "      <th>Trust (Government Corruption)</th>\n",
       "      <th>Generosity</th>\n",
       "      <th>Dystopia Residual</th>\n",
       "    </tr>\n",
       "  </thead>\n",
       "  <tbody>\n",
       "    <tr>\n",
       "      <th>0</th>\n",
       "      <td>Switzerland</td>\n",
       "      <td>Western Europe</td>\n",
       "      <td>1</td>\n",
       "      <td>7.587</td>\n",
       "      <td>0.03411</td>\n",
       "      <td>1.39651</td>\n",
       "      <td>1.34951</td>\n",
       "      <td>0.94143</td>\n",
       "      <td>0.66557</td>\n",
       "      <td>0.41978</td>\n",
       "      <td>0.29678</td>\n",
       "      <td>2.51738</td>\n",
       "    </tr>\n",
       "    <tr>\n",
       "      <th>1</th>\n",
       "      <td>Iceland</td>\n",
       "      <td>Western Europe</td>\n",
       "      <td>2</td>\n",
       "      <td>7.561</td>\n",
       "      <td>0.04884</td>\n",
       "      <td>1.30232</td>\n",
       "      <td>1.40223</td>\n",
       "      <td>0.94784</td>\n",
       "      <td>0.62877</td>\n",
       "      <td>0.14145</td>\n",
       "      <td>0.43630</td>\n",
       "      <td>2.70201</td>\n",
       "    </tr>\n",
       "    <tr>\n",
       "      <th>2</th>\n",
       "      <td>Denmark</td>\n",
       "      <td>Western Europe</td>\n",
       "      <td>3</td>\n",
       "      <td>7.527</td>\n",
       "      <td>0.03328</td>\n",
       "      <td>1.32548</td>\n",
       "      <td>1.36058</td>\n",
       "      <td>0.87464</td>\n",
       "      <td>0.64938</td>\n",
       "      <td>0.48357</td>\n",
       "      <td>0.34139</td>\n",
       "      <td>2.49204</td>\n",
       "    </tr>\n",
       "  </tbody>\n",
       "</table>\n",
       "</div>"
      ],
      "text/plain": [
       "       Country          Region  Happiness Rank  Happiness Score  \\\n",
       "0  Switzerland  Western Europe               1            7.587   \n",
       "1      Iceland  Western Europe               2            7.561   \n",
       "2      Denmark  Western Europe               3            7.527   \n",
       "\n",
       "   Standard Error  Economy (GDP per Capita)   Family  \\\n",
       "0         0.03411                   1.39651  1.34951   \n",
       "1         0.04884                   1.30232  1.40223   \n",
       "2         0.03328                   1.32548  1.36058   \n",
       "\n",
       "   Health (Life Expectancy)  Freedom  Trust (Government Corruption)  \\\n",
       "0                   0.94143  0.66557                        0.41978   \n",
       "1                   0.94784  0.62877                        0.14145   \n",
       "2                   0.87464  0.64938                        0.48357   \n",
       "\n",
       "   Generosity  Dystopia Residual  \n",
       "0     0.29678            2.51738  \n",
       "1     0.43630            2.70201  \n",
       "2     0.34139            2.49204  "
      ]
     },
     "execution_count": 171,
     "metadata": {},
     "output_type": "execute_result"
    }
   ],
   "source": [
    "df=pd.read_csv('https://raw.githubusercontent.com/dsrscientist/DSData/master/happiness_score_dataset.csv')\n",
    "df.head(3)"
   ]
  },
  {
   "cell_type": "code",
   "execution_count": 183,
   "id": "ee83285b",
   "metadata": {},
   "outputs": [
    {
     "data": {
      "text/plain": [
       "array(['Switzerland', 'Iceland', 'Denmark', 'Norway', 'Canada', 'Finland',\n",
       "       'Netherlands', 'Sweden', 'New Zealand', 'Australia', 'Israel',\n",
       "       'Costa Rica', 'Austria', 'Mexico', 'United States', 'Brazil',\n",
       "       'Luxembourg', 'Ireland', 'Belgium', 'United Arab Emirates',\n",
       "       'United Kingdom', 'Oman', 'Venezuela', 'Singapore', 'Panama',\n",
       "       'Germany', 'Chile', 'Qatar', 'France', 'Argentina',\n",
       "       'Czech Republic', 'Uruguay', 'Colombia', 'Thailand',\n",
       "       'Saudi Arabia', 'Spain', 'Malta', 'Taiwan', 'Kuwait', 'Suriname',\n",
       "       'Trinidad and Tobago', 'El Salvador', 'Guatemala', 'Uzbekistan',\n",
       "       'Slovakia', 'Japan', 'South Korea', 'Ecuador', 'Bahrain', 'Italy',\n",
       "       'Bolivia', 'Moldova', 'Paraguay', 'Kazakhstan', 'Slovenia',\n",
       "       'Lithuania', 'Nicaragua', 'Peru', 'Belarus', 'Poland', 'Malaysia',\n",
       "       'Croatia', 'Libya', 'Russia', 'Jamaica', 'North Cyprus', 'Cyprus',\n",
       "       'Algeria', 'Kosovo', 'Turkmenistan', 'Mauritius', 'Hong Kong',\n",
       "       'Estonia', 'Indonesia', 'Vietnam', 'Turkey', 'Kyrgyzstan',\n",
       "       'Nigeria', 'Bhutan', 'Azerbaijan', 'Pakistan', 'Jordan',\n",
       "       'Montenegro', 'China', 'Zambia', 'Romania', 'Serbia', 'Portugal',\n",
       "       'Latvia', 'Philippines', 'Somaliland region', 'Morocco',\n",
       "       'Macedonia', 'Mozambique', 'Albania', 'Bosnia and Herzegovina',\n",
       "       'Lesotho', 'Dominican Republic', 'Laos', 'Mongolia', 'Swaziland',\n",
       "       'Greece', 'Lebanon', 'Hungary', 'Honduras', 'Tajikistan',\n",
       "       'Tunisia', 'Palestinian Territories', 'Bangladesh', 'Iran',\n",
       "       'Ukraine', 'Iraq', 'South Africa', 'Ghana', 'Zimbabwe', 'Liberia',\n",
       "       'India', 'Sudan', 'Haiti', 'Congo (Kinshasa)', 'Nepal', 'Ethiopia',\n",
       "       'Sierra Leone', 'Mauritania', 'Kenya', 'Djibouti', 'Armenia',\n",
       "       'Botswana', 'Myanmar', 'Georgia', 'Malawi', 'Sri Lanka',\n",
       "       'Cameroon', 'Bulgaria', 'Egypt', 'Yemen', 'Angola', 'Mali',\n",
       "       'Congo (Brazzaville)', 'Comoros', 'Uganda', 'Senegal', 'Gabon',\n",
       "       'Niger', 'Cambodia', 'Tanzania', 'Madagascar',\n",
       "       'Central African Republic', 'Chad', 'Guinea', 'Ivory Coast',\n",
       "       'Burkina Faso', 'Afghanistan', 'Rwanda', 'Benin', 'Syria',\n",
       "       'Burundi', 'Togo'], dtype=object)"
      ]
     },
     "execution_count": 183,
     "metadata": {},
     "output_type": "execute_result"
    }
   ],
   "source": [
    "df['Country'].unique()"
   ]
  },
  {
   "cell_type": "code",
   "execution_count": 181,
   "id": "92c1c67c",
   "metadata": {},
   "outputs": [
    {
     "data": {
      "text/plain": [
       "158"
      ]
     },
     "execution_count": 181,
     "metadata": {},
     "output_type": "execute_result"
    }
   ],
   "source": [
    "df['Country'].value_counts().sum()"
   ]
  },
  {
   "cell_type": "code",
   "execution_count": 184,
   "id": "dfe46d39",
   "metadata": {
    "scrolled": true
   },
   "outputs": [
    {
     "data": {
      "text/html": [
       "<div>\n",
       "<style scoped>\n",
       "    .dataframe tbody tr th:only-of-type {\n",
       "        vertical-align: middle;\n",
       "    }\n",
       "\n",
       "    .dataframe tbody tr th {\n",
       "        vertical-align: top;\n",
       "    }\n",
       "\n",
       "    .dataframe thead th {\n",
       "        text-align: right;\n",
       "    }\n",
       "</style>\n",
       "<table border=\"1\" class=\"dataframe\">\n",
       "  <thead>\n",
       "    <tr style=\"text-align: right;\">\n",
       "      <th></th>\n",
       "      <th>Country</th>\n",
       "      <th>Region</th>\n",
       "      <th>Happiness Rank</th>\n",
       "      <th>Happiness Score</th>\n",
       "      <th>Standard Error</th>\n",
       "      <th>Economy (GDP per Capita)</th>\n",
       "      <th>Family</th>\n",
       "      <th>Health (Life Expectancy)</th>\n",
       "      <th>Freedom</th>\n",
       "      <th>Trust (Government Corruption)</th>\n",
       "      <th>Generosity</th>\n",
       "      <th>Dystopia Residual</th>\n",
       "    </tr>\n",
       "  </thead>\n",
       "  <tbody>\n",
       "    <tr>\n",
       "      <th>0</th>\n",
       "      <td>Switzerland</td>\n",
       "      <td>Western Europe</td>\n",
       "      <td>1</td>\n",
       "      <td>7.587</td>\n",
       "      <td>0.03411</td>\n",
       "      <td>1.39651</td>\n",
       "      <td>1.34951</td>\n",
       "      <td>0.94143</td>\n",
       "      <td>0.66557</td>\n",
       "      <td>0.41978</td>\n",
       "      <td>0.29678</td>\n",
       "      <td>2.51738</td>\n",
       "    </tr>\n",
       "    <tr>\n",
       "      <th>1</th>\n",
       "      <td>Iceland</td>\n",
       "      <td>Western Europe</td>\n",
       "      <td>2</td>\n",
       "      <td>7.561</td>\n",
       "      <td>0.04884</td>\n",
       "      <td>1.30232</td>\n",
       "      <td>1.40223</td>\n",
       "      <td>0.94784</td>\n",
       "      <td>0.62877</td>\n",
       "      <td>0.14145</td>\n",
       "      <td>0.43630</td>\n",
       "      <td>2.70201</td>\n",
       "    </tr>\n",
       "    <tr>\n",
       "      <th>2</th>\n",
       "      <td>Denmark</td>\n",
       "      <td>Western Europe</td>\n",
       "      <td>3</td>\n",
       "      <td>7.527</td>\n",
       "      <td>0.03328</td>\n",
       "      <td>1.32548</td>\n",
       "      <td>1.36058</td>\n",
       "      <td>0.87464</td>\n",
       "      <td>0.64938</td>\n",
       "      <td>0.48357</td>\n",
       "      <td>0.34139</td>\n",
       "      <td>2.49204</td>\n",
       "    </tr>\n",
       "    <tr>\n",
       "      <th>3</th>\n",
       "      <td>Norway</td>\n",
       "      <td>Western Europe</td>\n",
       "      <td>4</td>\n",
       "      <td>7.522</td>\n",
       "      <td>0.03880</td>\n",
       "      <td>1.45900</td>\n",
       "      <td>1.33095</td>\n",
       "      <td>0.88521</td>\n",
       "      <td>0.66973</td>\n",
       "      <td>0.36503</td>\n",
       "      <td>0.34699</td>\n",
       "      <td>2.46531</td>\n",
       "    </tr>\n",
       "    <tr>\n",
       "      <th>4</th>\n",
       "      <td>Canada</td>\n",
       "      <td>North America</td>\n",
       "      <td>5</td>\n",
       "      <td>7.427</td>\n",
       "      <td>0.03553</td>\n",
       "      <td>1.32629</td>\n",
       "      <td>1.32261</td>\n",
       "      <td>0.90563</td>\n",
       "      <td>0.63297</td>\n",
       "      <td>0.32957</td>\n",
       "      <td>0.45811</td>\n",
       "      <td>2.45176</td>\n",
       "    </tr>\n",
       "    <tr>\n",
       "      <th>...</th>\n",
       "      <td>...</td>\n",
       "      <td>...</td>\n",
       "      <td>...</td>\n",
       "      <td>...</td>\n",
       "      <td>...</td>\n",
       "      <td>...</td>\n",
       "      <td>...</td>\n",
       "      <td>...</td>\n",
       "      <td>...</td>\n",
       "      <td>...</td>\n",
       "      <td>...</td>\n",
       "      <td>...</td>\n",
       "    </tr>\n",
       "    <tr>\n",
       "      <th>153</th>\n",
       "      <td>Rwanda</td>\n",
       "      <td>Sub-Saharan Africa</td>\n",
       "      <td>154</td>\n",
       "      <td>3.465</td>\n",
       "      <td>0.03464</td>\n",
       "      <td>0.22208</td>\n",
       "      <td>0.77370</td>\n",
       "      <td>0.42864</td>\n",
       "      <td>0.59201</td>\n",
       "      <td>0.55191</td>\n",
       "      <td>0.22628</td>\n",
       "      <td>0.67042</td>\n",
       "    </tr>\n",
       "    <tr>\n",
       "      <th>154</th>\n",
       "      <td>Benin</td>\n",
       "      <td>Sub-Saharan Africa</td>\n",
       "      <td>155</td>\n",
       "      <td>3.340</td>\n",
       "      <td>0.03656</td>\n",
       "      <td>0.28665</td>\n",
       "      <td>0.35386</td>\n",
       "      <td>0.31910</td>\n",
       "      <td>0.48450</td>\n",
       "      <td>0.08010</td>\n",
       "      <td>0.18260</td>\n",
       "      <td>1.63328</td>\n",
       "    </tr>\n",
       "    <tr>\n",
       "      <th>155</th>\n",
       "      <td>Syria</td>\n",
       "      <td>Middle East and Northern Africa</td>\n",
       "      <td>156</td>\n",
       "      <td>3.006</td>\n",
       "      <td>0.05015</td>\n",
       "      <td>0.66320</td>\n",
       "      <td>0.47489</td>\n",
       "      <td>0.72193</td>\n",
       "      <td>0.15684</td>\n",
       "      <td>0.18906</td>\n",
       "      <td>0.47179</td>\n",
       "      <td>0.32858</td>\n",
       "    </tr>\n",
       "    <tr>\n",
       "      <th>156</th>\n",
       "      <td>Burundi</td>\n",
       "      <td>Sub-Saharan Africa</td>\n",
       "      <td>157</td>\n",
       "      <td>2.905</td>\n",
       "      <td>0.08658</td>\n",
       "      <td>0.01530</td>\n",
       "      <td>0.41587</td>\n",
       "      <td>0.22396</td>\n",
       "      <td>0.11850</td>\n",
       "      <td>0.10062</td>\n",
       "      <td>0.19727</td>\n",
       "      <td>1.83302</td>\n",
       "    </tr>\n",
       "    <tr>\n",
       "      <th>157</th>\n",
       "      <td>Togo</td>\n",
       "      <td>Sub-Saharan Africa</td>\n",
       "      <td>158</td>\n",
       "      <td>2.839</td>\n",
       "      <td>0.06727</td>\n",
       "      <td>0.20868</td>\n",
       "      <td>0.13995</td>\n",
       "      <td>0.28443</td>\n",
       "      <td>0.36453</td>\n",
       "      <td>0.10731</td>\n",
       "      <td>0.16681</td>\n",
       "      <td>1.56726</td>\n",
       "    </tr>\n",
       "  </tbody>\n",
       "</table>\n",
       "<p>158 rows × 12 columns</p>\n",
       "</div>"
      ],
      "text/plain": [
       "         Country                           Region  Happiness Rank  \\\n",
       "0    Switzerland                   Western Europe               1   \n",
       "1        Iceland                   Western Europe               2   \n",
       "2        Denmark                   Western Europe               3   \n",
       "3         Norway                   Western Europe               4   \n",
       "4         Canada                    North America               5   \n",
       "..           ...                              ...             ...   \n",
       "153       Rwanda               Sub-Saharan Africa             154   \n",
       "154        Benin               Sub-Saharan Africa             155   \n",
       "155        Syria  Middle East and Northern Africa             156   \n",
       "156      Burundi               Sub-Saharan Africa             157   \n",
       "157         Togo               Sub-Saharan Africa             158   \n",
       "\n",
       "     Happiness Score  Standard Error  Economy (GDP per Capita)   Family  \\\n",
       "0              7.587         0.03411                   1.39651  1.34951   \n",
       "1              7.561         0.04884                   1.30232  1.40223   \n",
       "2              7.527         0.03328                   1.32548  1.36058   \n",
       "3              7.522         0.03880                   1.45900  1.33095   \n",
       "4              7.427         0.03553                   1.32629  1.32261   \n",
       "..               ...             ...                       ...      ...   \n",
       "153            3.465         0.03464                   0.22208  0.77370   \n",
       "154            3.340         0.03656                   0.28665  0.35386   \n",
       "155            3.006         0.05015                   0.66320  0.47489   \n",
       "156            2.905         0.08658                   0.01530  0.41587   \n",
       "157            2.839         0.06727                   0.20868  0.13995   \n",
       "\n",
       "     Health (Life Expectancy)  Freedom  Trust (Government Corruption)  \\\n",
       "0                     0.94143  0.66557                        0.41978   \n",
       "1                     0.94784  0.62877                        0.14145   \n",
       "2                     0.87464  0.64938                        0.48357   \n",
       "3                     0.88521  0.66973                        0.36503   \n",
       "4                     0.90563  0.63297                        0.32957   \n",
       "..                        ...      ...                            ...   \n",
       "153                   0.42864  0.59201                        0.55191   \n",
       "154                   0.31910  0.48450                        0.08010   \n",
       "155                   0.72193  0.15684                        0.18906   \n",
       "156                   0.22396  0.11850                        0.10062   \n",
       "157                   0.28443  0.36453                        0.10731   \n",
       "\n",
       "     Generosity  Dystopia Residual  \n",
       "0       0.29678            2.51738  \n",
       "1       0.43630            2.70201  \n",
       "2       0.34139            2.49204  \n",
       "3       0.34699            2.46531  \n",
       "4       0.45811            2.45176  \n",
       "..          ...                ...  \n",
       "153     0.22628            0.67042  \n",
       "154     0.18260            1.63328  \n",
       "155     0.47179            0.32858  \n",
       "156     0.19727            1.83302  \n",
       "157     0.16681            1.56726  \n",
       "\n",
       "[158 rows x 12 columns]"
      ]
     },
     "execution_count": 184,
     "metadata": {},
     "output_type": "execute_result"
    }
   ],
   "source": [
    "df"
   ]
  },
  {
   "cell_type": "code",
   "execution_count": 197,
   "id": "4671b53a",
   "metadata": {},
   "outputs": [],
   "source": [
    "pattern=r'(\\w{,6})'\n",
    "df['first_five_letters']=df['Country'].str.extract(pattern,expand=True)"
   ]
  },
  {
   "cell_type": "code",
   "execution_count": 205,
   "id": "30236614",
   "metadata": {},
   "outputs": [
    {
     "data": {
      "text/plain": [
       "158"
      ]
     },
     "execution_count": 205,
     "metadata": {},
     "output_type": "execute_result"
    }
   ],
   "source": [
    "df['first_five_letters'].value_counts().sum()"
   ]
  },
  {
   "cell_type": "code",
   "execution_count": 206,
   "id": "3550202a",
   "metadata": {
    "collapsed": true
   },
   "outputs": [
    {
     "data": {
      "text/plain": [
       "array(['Switze', 'Icelan', 'Denmar', 'Norway', 'Canada', 'Finlan',\n",
       "       'Nether', 'Sweden', 'New', 'Austra', 'Israel', 'Costa', 'Austri',\n",
       "       'Mexico', 'United', 'Brazil', 'Luxemb', 'Irelan', 'Belgiu', 'Oman',\n",
       "       'Venezu', 'Singap', 'Panama', 'German', 'Chile', 'Qatar', 'France',\n",
       "       'Argent', 'Czech', 'Urugua', 'Colomb', 'Thaila', 'Saudi', 'Spain',\n",
       "       'Malta', 'Taiwan', 'Kuwait', 'Surina', 'Trinid', 'El', 'Guatem',\n",
       "       'Uzbeki', 'Slovak', 'Japan', 'South', 'Ecuado', 'Bahrai', 'Italy',\n",
       "       'Bolivi', 'Moldov', 'Paragu', 'Kazakh', 'Sloven', 'Lithua',\n",
       "       'Nicara', 'Peru', 'Belaru', 'Poland', 'Malays', 'Croati', 'Libya',\n",
       "       'Russia', 'Jamaic', 'North', 'Cyprus', 'Algeri', 'Kosovo',\n",
       "       'Turkme', 'Maurit', 'Hong', 'Estoni', 'Indone', 'Vietna', 'Turkey',\n",
       "       'Kyrgyz', 'Nigeri', 'Bhutan', 'Azerba', 'Pakist', 'Jordan',\n",
       "       'Monten', 'China', 'Zambia', 'Romani', 'Serbia', 'Portug',\n",
       "       'Latvia', 'Philip', 'Somali', 'Morocc', 'Macedo', 'Mozamb',\n",
       "       'Albani', 'Bosnia', 'Lesoth', 'Domini', 'Laos', 'Mongol', 'Swazil',\n",
       "       'Greece', 'Lebano', 'Hungar', 'Hondur', 'Tajiki', 'Tunisi',\n",
       "       'Palest', 'Bangla', 'Iran', 'Ukrain', 'Iraq', 'Ghana', 'Zimbab',\n",
       "       'Liberi', 'India', 'Sudan', 'Haiti', 'Congo', 'Nepal', 'Ethiop',\n",
       "       'Sierra', 'Kenya', 'Djibou', 'Armeni', 'Botswa', 'Myanma',\n",
       "       'Georgi', 'Malawi', 'Sri', 'Camero', 'Bulgar', 'Egypt', 'Yemen',\n",
       "       'Angola', 'Mali', 'Comoro', 'Uganda', 'Senega', 'Gabon', 'Niger',\n",
       "       'Cambod', 'Tanzan', 'Madaga', 'Centra', 'Chad', 'Guinea', 'Ivory',\n",
       "       'Burkin', 'Afghan', 'Rwanda', 'Benin', 'Syria', 'Burund', 'Togo'],\n",
       "      dtype=object)"
      ]
     },
     "execution_count": 206,
     "metadata": {},
     "output_type": "execute_result"
    }
   ],
   "source": [
    "df['first_five_letters'].unique()"
   ]
  },
  {
   "cell_type": "code",
   "execution_count": 207,
   "id": "1fc2e53c",
   "metadata": {
    "collapsed": true
   },
   "outputs": [
    {
     "data": {
      "text/html": [
       "<div>\n",
       "<style scoped>\n",
       "    .dataframe tbody tr th:only-of-type {\n",
       "        vertical-align: middle;\n",
       "    }\n",
       "\n",
       "    .dataframe tbody tr th {\n",
       "        vertical-align: top;\n",
       "    }\n",
       "\n",
       "    .dataframe thead th {\n",
       "        text-align: right;\n",
       "    }\n",
       "</style>\n",
       "<table border=\"1\" class=\"dataframe\">\n",
       "  <thead>\n",
       "    <tr style=\"text-align: right;\">\n",
       "      <th></th>\n",
       "      <th>Country</th>\n",
       "      <th>Region</th>\n",
       "      <th>Happiness Rank</th>\n",
       "      <th>Happiness Score</th>\n",
       "      <th>Standard Error</th>\n",
       "      <th>Economy (GDP per Capita)</th>\n",
       "      <th>Family</th>\n",
       "      <th>Health (Life Expectancy)</th>\n",
       "      <th>Freedom</th>\n",
       "      <th>Trust (Government Corruption)</th>\n",
       "      <th>Generosity</th>\n",
       "      <th>Dystopia Residual</th>\n",
       "      <th>first_five_letters</th>\n",
       "    </tr>\n",
       "  </thead>\n",
       "  <tbody>\n",
       "    <tr>\n",
       "      <th>0</th>\n",
       "      <td>Switzerland</td>\n",
       "      <td>Western Europe</td>\n",
       "      <td>1</td>\n",
       "      <td>7.587</td>\n",
       "      <td>0.03411</td>\n",
       "      <td>1.39651</td>\n",
       "      <td>1.34951</td>\n",
       "      <td>0.94143</td>\n",
       "      <td>0.66557</td>\n",
       "      <td>0.41978</td>\n",
       "      <td>0.29678</td>\n",
       "      <td>2.51738</td>\n",
       "      <td>Switze</td>\n",
       "    </tr>\n",
       "    <tr>\n",
       "      <th>1</th>\n",
       "      <td>Iceland</td>\n",
       "      <td>Western Europe</td>\n",
       "      <td>2</td>\n",
       "      <td>7.561</td>\n",
       "      <td>0.04884</td>\n",
       "      <td>1.30232</td>\n",
       "      <td>1.40223</td>\n",
       "      <td>0.94784</td>\n",
       "      <td>0.62877</td>\n",
       "      <td>0.14145</td>\n",
       "      <td>0.43630</td>\n",
       "      <td>2.70201</td>\n",
       "      <td>Icelan</td>\n",
       "    </tr>\n",
       "    <tr>\n",
       "      <th>2</th>\n",
       "      <td>Denmark</td>\n",
       "      <td>Western Europe</td>\n",
       "      <td>3</td>\n",
       "      <td>7.527</td>\n",
       "      <td>0.03328</td>\n",
       "      <td>1.32548</td>\n",
       "      <td>1.36058</td>\n",
       "      <td>0.87464</td>\n",
       "      <td>0.64938</td>\n",
       "      <td>0.48357</td>\n",
       "      <td>0.34139</td>\n",
       "      <td>2.49204</td>\n",
       "      <td>Denmar</td>\n",
       "    </tr>\n",
       "    <tr>\n",
       "      <th>3</th>\n",
       "      <td>Norway</td>\n",
       "      <td>Western Europe</td>\n",
       "      <td>4</td>\n",
       "      <td>7.522</td>\n",
       "      <td>0.03880</td>\n",
       "      <td>1.45900</td>\n",
       "      <td>1.33095</td>\n",
       "      <td>0.88521</td>\n",
       "      <td>0.66973</td>\n",
       "      <td>0.36503</td>\n",
       "      <td>0.34699</td>\n",
       "      <td>2.46531</td>\n",
       "      <td>Norway</td>\n",
       "    </tr>\n",
       "    <tr>\n",
       "      <th>4</th>\n",
       "      <td>Canada</td>\n",
       "      <td>North America</td>\n",
       "      <td>5</td>\n",
       "      <td>7.427</td>\n",
       "      <td>0.03553</td>\n",
       "      <td>1.32629</td>\n",
       "      <td>1.32261</td>\n",
       "      <td>0.90563</td>\n",
       "      <td>0.63297</td>\n",
       "      <td>0.32957</td>\n",
       "      <td>0.45811</td>\n",
       "      <td>2.45176</td>\n",
       "      <td>Canada</td>\n",
       "    </tr>\n",
       "    <tr>\n",
       "      <th>...</th>\n",
       "      <td>...</td>\n",
       "      <td>...</td>\n",
       "      <td>...</td>\n",
       "      <td>...</td>\n",
       "      <td>...</td>\n",
       "      <td>...</td>\n",
       "      <td>...</td>\n",
       "      <td>...</td>\n",
       "      <td>...</td>\n",
       "      <td>...</td>\n",
       "      <td>...</td>\n",
       "      <td>...</td>\n",
       "      <td>...</td>\n",
       "    </tr>\n",
       "    <tr>\n",
       "      <th>153</th>\n",
       "      <td>Rwanda</td>\n",
       "      <td>Sub-Saharan Africa</td>\n",
       "      <td>154</td>\n",
       "      <td>3.465</td>\n",
       "      <td>0.03464</td>\n",
       "      <td>0.22208</td>\n",
       "      <td>0.77370</td>\n",
       "      <td>0.42864</td>\n",
       "      <td>0.59201</td>\n",
       "      <td>0.55191</td>\n",
       "      <td>0.22628</td>\n",
       "      <td>0.67042</td>\n",
       "      <td>Rwanda</td>\n",
       "    </tr>\n",
       "    <tr>\n",
       "      <th>154</th>\n",
       "      <td>Benin</td>\n",
       "      <td>Sub-Saharan Africa</td>\n",
       "      <td>155</td>\n",
       "      <td>3.340</td>\n",
       "      <td>0.03656</td>\n",
       "      <td>0.28665</td>\n",
       "      <td>0.35386</td>\n",
       "      <td>0.31910</td>\n",
       "      <td>0.48450</td>\n",
       "      <td>0.08010</td>\n",
       "      <td>0.18260</td>\n",
       "      <td>1.63328</td>\n",
       "      <td>Benin</td>\n",
       "    </tr>\n",
       "    <tr>\n",
       "      <th>155</th>\n",
       "      <td>Syria</td>\n",
       "      <td>Middle East and Northern Africa</td>\n",
       "      <td>156</td>\n",
       "      <td>3.006</td>\n",
       "      <td>0.05015</td>\n",
       "      <td>0.66320</td>\n",
       "      <td>0.47489</td>\n",
       "      <td>0.72193</td>\n",
       "      <td>0.15684</td>\n",
       "      <td>0.18906</td>\n",
       "      <td>0.47179</td>\n",
       "      <td>0.32858</td>\n",
       "      <td>Syria</td>\n",
       "    </tr>\n",
       "    <tr>\n",
       "      <th>156</th>\n",
       "      <td>Burundi</td>\n",
       "      <td>Sub-Saharan Africa</td>\n",
       "      <td>157</td>\n",
       "      <td>2.905</td>\n",
       "      <td>0.08658</td>\n",
       "      <td>0.01530</td>\n",
       "      <td>0.41587</td>\n",
       "      <td>0.22396</td>\n",
       "      <td>0.11850</td>\n",
       "      <td>0.10062</td>\n",
       "      <td>0.19727</td>\n",
       "      <td>1.83302</td>\n",
       "      <td>Burund</td>\n",
       "    </tr>\n",
       "    <tr>\n",
       "      <th>157</th>\n",
       "      <td>Togo</td>\n",
       "      <td>Sub-Saharan Africa</td>\n",
       "      <td>158</td>\n",
       "      <td>2.839</td>\n",
       "      <td>0.06727</td>\n",
       "      <td>0.20868</td>\n",
       "      <td>0.13995</td>\n",
       "      <td>0.28443</td>\n",
       "      <td>0.36453</td>\n",
       "      <td>0.10731</td>\n",
       "      <td>0.16681</td>\n",
       "      <td>1.56726</td>\n",
       "      <td>Togo</td>\n",
       "    </tr>\n",
       "  </tbody>\n",
       "</table>\n",
       "<p>158 rows × 13 columns</p>\n",
       "</div>"
      ],
      "text/plain": [
       "         Country                           Region  Happiness Rank  \\\n",
       "0    Switzerland                   Western Europe               1   \n",
       "1        Iceland                   Western Europe               2   \n",
       "2        Denmark                   Western Europe               3   \n",
       "3         Norway                   Western Europe               4   \n",
       "4         Canada                    North America               5   \n",
       "..           ...                              ...             ...   \n",
       "153       Rwanda               Sub-Saharan Africa             154   \n",
       "154        Benin               Sub-Saharan Africa             155   \n",
       "155        Syria  Middle East and Northern Africa             156   \n",
       "156      Burundi               Sub-Saharan Africa             157   \n",
       "157         Togo               Sub-Saharan Africa             158   \n",
       "\n",
       "     Happiness Score  Standard Error  Economy (GDP per Capita)   Family  \\\n",
       "0              7.587         0.03411                   1.39651  1.34951   \n",
       "1              7.561         0.04884                   1.30232  1.40223   \n",
       "2              7.527         0.03328                   1.32548  1.36058   \n",
       "3              7.522         0.03880                   1.45900  1.33095   \n",
       "4              7.427         0.03553                   1.32629  1.32261   \n",
       "..               ...             ...                       ...      ...   \n",
       "153            3.465         0.03464                   0.22208  0.77370   \n",
       "154            3.340         0.03656                   0.28665  0.35386   \n",
       "155            3.006         0.05015                   0.66320  0.47489   \n",
       "156            2.905         0.08658                   0.01530  0.41587   \n",
       "157            2.839         0.06727                   0.20868  0.13995   \n",
       "\n",
       "     Health (Life Expectancy)  Freedom  Trust (Government Corruption)  \\\n",
       "0                     0.94143  0.66557                        0.41978   \n",
       "1                     0.94784  0.62877                        0.14145   \n",
       "2                     0.87464  0.64938                        0.48357   \n",
       "3                     0.88521  0.66973                        0.36503   \n",
       "4                     0.90563  0.63297                        0.32957   \n",
       "..                        ...      ...                            ...   \n",
       "153                   0.42864  0.59201                        0.55191   \n",
       "154                   0.31910  0.48450                        0.08010   \n",
       "155                   0.72193  0.15684                        0.18906   \n",
       "156                   0.22396  0.11850                        0.10062   \n",
       "157                   0.28443  0.36453                        0.10731   \n",
       "\n",
       "     Generosity  Dystopia Residual first_five_letters  \n",
       "0       0.29678            2.51738             Switze  \n",
       "1       0.43630            2.70201             Icelan  \n",
       "2       0.34139            2.49204             Denmar  \n",
       "3       0.34699            2.46531             Norway  \n",
       "4       0.45811            2.45176             Canada  \n",
       "..          ...                ...                ...  \n",
       "153     0.22628            0.67042             Rwanda  \n",
       "154     0.18260            1.63328              Benin  \n",
       "155     0.47179            0.32858              Syria  \n",
       "156     0.19727            1.83302             Burund  \n",
       "157     0.16681            1.56726               Togo  \n",
       "\n",
       "[158 rows x 13 columns]"
      ]
     },
     "execution_count": 207,
     "metadata": {},
     "output_type": "execute_result"
    }
   ],
   "source": [
    "df"
   ]
  },
  {
   "cell_type": "markdown",
   "id": "b1f66751",
   "metadata": {},
   "source": [
    "# 11"
   ]
  },
  {
   "cell_type": "raw",
   "id": "7b55753a",
   "metadata": {},
   "source": [
    "Write a Python program to match a string that contains only upper and lowercase letters, numbers, and underscores"
   ]
  },
  {
   "cell_type": "code",
   "execution_count": 209,
   "id": "d11761fc",
   "metadata": {},
   "outputs": [
    {
     "name": "stdout",
     "output_type": "stream",
     "text": [
      "['18Virat_Kohli', 'Hold5', 'the', 'record9', 'of', 'Sc0ring', 'in', 'S1ngle', 'seas0n', 'The', 'IPL']\n"
     ]
    }
   ],
   "source": [
    "line='18Virat_Kohli Hold5 the record9 of Sc0ring @+%r*u%n)s in a S1ngle seas0n @o*f The IPL'\n",
    "pattern=r'\\b\\w\\w+\\b'\n",
    "for p in range(1):\n",
    "    result=re.findall(pattern,line)\n",
    "    print(result)"
   ]
  },
  {
   "cell_type": "markdown",
   "id": "2d9b79e1",
   "metadata": {},
   "source": [
    "# 12"
   ]
  },
  {
   "cell_type": "raw",
   "id": "e750f350",
   "metadata": {},
   "source": [
    "Write a Python program where a string will start with a specific number."
   ]
  },
  {
   "cell_type": "code",
   "execution_count": 212,
   "id": "c5690ed3",
   "metadata": {},
   "outputs": [
    {
     "name": "stdout",
     "output_type": "stream",
     "text": [
      "18Virat_Kohli Hold5 the record9 of Sc0ring @+%r*u%n)s in a S1ngle seas0n @o*f The IPL\n"
     ]
    }
   ],
   "source": [
    "line='18Virat_Kohli Hold5 the record9 of Sc0ring @+%r*u%n)s in a S1ngle seas0n @o*f The IPL'\n",
    "pattern=r'^18\\w+'\n",
    "if re.match(pattern,line):\n",
    "    result=re.search(pattern,line)\n",
    "    print(result.string)\n",
    "else:print('string does not starts with specified number')"
   ]
  },
  {
   "cell_type": "markdown",
   "id": "0f8ddae2",
   "metadata": {},
   "source": [
    "# 13"
   ]
  },
  {
   "cell_type": "raw",
   "id": "efdb8bf3",
   "metadata": {},
   "source": [
    "Write a Python program to remove leading zeros from an IP address"
   ]
  },
  {
   "cell_type": "code",
   "execution_count": 216,
   "id": "d7e083a3",
   "metadata": {},
   "outputs": [
    {
     "name": "stdout",
     "output_type": "stream",
     "text": [
      "enter the IP address -192.168.0.101\n",
      "192.168..11\n"
     ]
    }
   ],
   "source": [
    "IP=input('enter the IP address -')\n",
    "pattern=re.compile(r'0+')\n",
    "if pattern.search(IP):\n",
    "    result=pattern.sub('',IP)\n",
    "    print(result)\n",
    "else:\n",
    "    print('No zeroes in IP address')"
   ]
  },
  {
   "cell_type": "markdown",
   "id": "ba141ca3",
   "metadata": {},
   "source": [
    "# 14"
   ]
  },
  {
   "cell_type": "raw",
   "id": "e7ceb89a",
   "metadata": {},
   "source": [
    "Write a regular expression in python to match a date string in the form of Month name followed by day number and year stored in a text file.\n",
    "Sample text :  ' On August 15th 1947 that India was declared independent from British colonialism, and the reins of control were handed over to the leaders of the Country’.\n",
    "Expected Output- August 15th 1947\n",
    "Note- Store given sample text in the text file and then extract the date string asked format."
   ]
  },
  {
   "cell_type": "code",
   "execution_count": 217,
   "id": "c760ee99",
   "metadata": {},
   "outputs": [],
   "source": [
    "file=open('C:/Fliprobo/text2.txt','w')"
   ]
  },
  {
   "cell_type": "code",
   "execution_count": 218,
   "id": "480ed44e",
   "metadata": {},
   "outputs": [
    {
     "data": {
      "text/plain": [
       "153"
      ]
     },
     "execution_count": 218,
     "metadata": {},
     "output_type": "execute_result"
    }
   ],
   "source": [
    "file.write('On August 15th 1947 that India was declared independent from British colonialism, and the reins of control were handed over to the leaders of the Country')"
   ]
  },
  {
   "cell_type": "code",
   "execution_count": 219,
   "id": "21ee2801",
   "metadata": {},
   "outputs": [],
   "source": [
    "file.close()"
   ]
  },
  {
   "cell_type": "code",
   "execution_count": 224,
   "id": "3360a90e",
   "metadata": {},
   "outputs": [
    {
     "name": "stdout",
     "output_type": "stream",
     "text": [
      "August 15th 1947\n"
     ]
    }
   ],
   "source": [
    "with open('C:/Fliprobo/text2.txt') as file:\n",
    "    pattern=re.compile(r'\\b([A-Z][a-z]+)\\s(\\d{2}th)\\s(\\d{4})\\b')\n",
    "    for line in file:\n",
    "        result=pattern.search(line)\n",
    "        print(result.group())"
   ]
  },
  {
   "cell_type": "markdown",
   "id": "39e33b34",
   "metadata": {},
   "source": [
    "# 15"
   ]
  },
  {
   "cell_type": "raw",
   "id": "1088e1e5",
   "metadata": {},
   "source": [
    "Write a regular expression in python to match a date string in the form of Month name followed by day number and year stored in a text file.\n",
    "Sample text :  ' On August 15th 1947 that India was declared independent from British colonialism, and the reins of control were handed over to the leaders of the Country’.\n",
    "Expected Output- August 15th 1947\n",
    "Note- Store given sample text in the text file and then extract the date string asked format."
   ]
  },
  {
   "cell_type": "code",
   "execution_count": 232,
   "id": "6be6ec65",
   "metadata": {},
   "outputs": [
    {
     "name": "stdout",
     "output_type": "stream",
     "text": [
      "fox\n",
      "dog\n"
     ]
    }
   ],
   "source": [
    "text='The quick brown fox jumps over the lazy dog'\n",
    "pattern=r'fox|dog|horse'\n",
    "if re.findall(pattern,text):\n",
    "    result=re.finditer(pattern,text)\n",
    "    for w in result:\n",
    "        print(w.group())\n",
    "else:\n",
    "    print('given word is not the string')"
   ]
  },
  {
   "cell_type": "markdown",
   "id": "b2aa14c5",
   "metadata": {},
   "source": [
    "# 16"
   ]
  },
  {
   "cell_type": "raw",
   "id": "80c4018b",
   "metadata": {},
   "source": [
    "Write a Python program to search a literals string in a string and also find the location within the original string where the pattern occurs\n",
    "Sample text : 'The quick brown fox jumps over the lazy dog.'\n",
    "Searched words : 'fox'"
   ]
  },
  {
   "cell_type": "code",
   "execution_count": 237,
   "id": "e72e9fd6",
   "metadata": {},
   "outputs": [
    {
     "name": "stdout",
     "output_type": "stream",
     "text": [
      "Word Matched\n",
      "Location - 16\n"
     ]
    }
   ],
   "source": [
    "text='The quick brown fox jumps over the lazy dog.'\n",
    "pattern=r'fox'\n",
    "if re.findall(pattern,text):\n",
    "    result=re.search(pattern,text)\n",
    "    print('Word Matched')\n",
    "    print('Location -',result.start())\n",
    "else:\n",
    "    print('word not found')"
   ]
  },
  {
   "cell_type": "markdown",
   "id": "42b2a109",
   "metadata": {},
   "source": [
    "# 17"
   ]
  },
  {
   "cell_type": "raw",
   "id": "6cc8efed",
   "metadata": {},
   "source": [
    "Write a Python program to find the substrings within a string.\n",
    "Sample text : 'Python exercises, PHP exercises, C# exercises'\n",
    "Pattern : 'exercises'."
   ]
  },
  {
   "cell_type": "code",
   "execution_count": 236,
   "id": "cf5efc4a",
   "metadata": {},
   "outputs": [
    {
     "name": "stdout",
     "output_type": "stream",
     "text": [
      "['exercises', 'exercises', 'exercises']\n"
     ]
    }
   ],
   "source": [
    "text='Python exercises, PHP exercises,C#exercises'\n",
    "pattern='exercises'\n",
    "if re.search(pattern,text):\n",
    "    print(re.findall(pattern,text))\n",
    "else:print('word not found')"
   ]
  },
  {
   "cell_type": "markdown",
   "id": "413148d3",
   "metadata": {},
   "source": [
    "# 18"
   ]
  },
  {
   "cell_type": "raw",
   "id": "bbfbf7f8",
   "metadata": {},
   "source": [
    "Write a Python program to find the occurrence and position of the substrings within a string."
   ]
  },
  {
   "cell_type": "code",
   "execution_count": 238,
   "id": "ea54a3da",
   "metadata": {},
   "outputs": [
    {
     "name": "stdout",
     "output_type": "stream",
     "text": [
      "substring- 2016\n",
      "substring occurence- (7, 11)\n",
      "substring- 973\n",
      "substring occurence- (54, 57)\n",
      "substring- 848\n",
      "substring occurence- (102, 105)\n"
     ]
    }
   ],
   "source": [
    "text='In IPL 2016 Virat Kohli win the orange cap by scoring 973 runs. David warner was on second place with 848 runs'\n",
    "pattern=r'\\d+'\n",
    "result=re.finditer(pattern,text)\n",
    "for subs in result:\n",
    "    print('substring-',subs.group())\n",
    "    print('substring occurence-',subs.span())"
   ]
  },
  {
   "cell_type": "markdown",
   "id": "5b0f699b",
   "metadata": {},
   "source": [
    "# 19"
   ]
  },
  {
   "cell_type": "raw",
   "id": "b45d3def",
   "metadata": {},
   "source": [
    "Write a Python program to convert a date of yyyy-mm-dd format to dd-mm-yyyy format."
   ]
  },
  {
   "cell_type": "code",
   "execution_count": 250,
   "id": "dab71b65",
   "metadata": {},
   "outputs": [
    {
     "name": "stdout",
     "output_type": "stream",
     "text": [
      "02-04-2024\n"
     ]
    }
   ],
   "source": [
    "date='2024-04-02'\n",
    "pattern=r'(\\d{4})-(\\d{2})-(\\d{2})'\n",
    "for d in range(1):\n",
    "    result=re.sub(pattern,r'\\3-\\2-\\1',date)\n",
    "    print(result)"
   ]
  },
  {
   "cell_type": "markdown",
   "id": "4db9bd5f",
   "metadata": {},
   "source": [
    "# 20"
   ]
  },
  {
   "cell_type": "raw",
   "id": "b0b55e69",
   "metadata": {},
   "source": [
    "Create a function in python to find all decimal numbers with a precision of 1 or 2 in a string. The use of the re.compile() method is mandatory.\n",
    "Sample Text: \"01.12 0132.123 2.31875 145.8 3.01 27.25 0.25\"\n",
    "Expected Output: ['01.12', '145.8', '3.01', '27.25', '0.25']"
   ]
  },
  {
   "cell_type": "code",
   "execution_count": 239,
   "id": "47d9281a",
   "metadata": {},
   "outputs": [],
   "source": [
    "def decimal(text):\n",
    "    pattern=re.compile(r'\\b\\d+\\.\\d{1,2}\\b')\n",
    "    result=pattern.findall(text)\n",
    "    print(result)"
   ]
  },
  {
   "cell_type": "code",
   "execution_count": 240,
   "id": "22881122",
   "metadata": {},
   "outputs": [
    {
     "name": "stdout",
     "output_type": "stream",
     "text": [
      "['01.12', '145.8', '3.01', '27.25', '0.25']\n"
     ]
    }
   ],
   "source": [
    "string='01.12 0132.123 2.31875 145.8 3.01 27.25 0.25'\n",
    "decimal(string)"
   ]
  },
  {
   "cell_type": "markdown",
   "id": "19a85067",
   "metadata": {},
   "source": [
    "# 21"
   ]
  },
  {
   "cell_type": "raw",
   "id": "44488f60",
   "metadata": {},
   "source": [
    "Write a Python program to separate and print the numbers and their position of a given string."
   ]
  },
  {
   "cell_type": "code",
   "execution_count": 253,
   "id": "375e3cd1",
   "metadata": {},
   "outputs": [
    {
     "data": {
      "text/plain": [
       "1"
      ]
     },
     "execution_count": 253,
     "metadata": {},
     "output_type": "execute_result"
    }
   ],
   "source": [
    "lis=[1,2,3,4,5]\n",
    "lis.index(2)"
   ]
  },
  {
   "cell_type": "code",
   "execution_count": 260,
   "id": "950bf980",
   "metadata": {
    "scrolled": true
   },
   "outputs": [
    {
     "name": "stdout",
     "output_type": "stream",
     "text": [
      "numbers in string:- 264 and their location - (57, 60)\n",
      "numbers in string:- 173 and their location - (64, 67)\n",
      "numbers in string:- 152 and their location - (89, 92)\n",
      "numbers in string:- 2013 and their location - (113, 117)\n",
      "numbers in string:- 33 and their location - (130, 132)\n",
      "numbers in string:- 9 and their location - (143, 144)\n"
     ]
    }
   ],
   "source": [
    "text='Rohit Sharma scored the highest indivisual score in odis 264 in 173 balls with the SR of 152 against srilanka in 2013. He smashed 33 fours and 9 sixes in this inning'\n",
    "pattern=re.compile(r'\\d+')\n",
    "result=pattern.finditer(text)\n",
    "for di in result:\n",
    "    print('numbers in string:-',di.group(), 'and their location -',di.span())"
   ]
  },
  {
   "cell_type": "code",
   "execution_count": 262,
   "id": "9b77eeb0",
   "metadata": {},
   "outputs": [
    {
     "data": {
      "text/plain": [
       "'9'"
      ]
     },
     "execution_count": 262,
     "metadata": {},
     "output_type": "execute_result"
    }
   ],
   "source": [
    "b=di.group()\n",
    "b"
   ]
  },
  {
   "cell_type": "markdown",
   "id": "37c392d7",
   "metadata": {},
   "source": [
    "# 22"
   ]
  },
  {
   "cell_type": "raw",
   "id": "8a638f54",
   "metadata": {},
   "source": [
    "Write a regular expression in python program to extract maximum/largest numeric value from a string.\n",
    "Sample Text:  'My marks in each semester are: 947, 896, 926, 524, 734, 950, 642'\n",
    "Expected Output: 950"
   ]
  },
  {
   "cell_type": "code",
   "execution_count": 263,
   "id": "7099a133",
   "metadata": {},
   "outputs": [
    {
     "name": "stdout",
     "output_type": "stream",
     "text": [
      "950\n"
     ]
    }
   ],
   "source": [
    "text='My marks in each semester are: 947,896,926,524,734,950'\n",
    "pattern=r'\\d+'\n",
    "for digit in range(1):\n",
    "    result=re.findall(pattern,text)\n",
    "    print(max(result))"
   ]
  },
  {
   "cell_type": "markdown",
   "id": "5d6cd83c",
   "metadata": {},
   "source": [
    "# 23"
   ]
  },
  {
   "cell_type": "raw",
   "id": "57ff0950",
   "metadata": {},
   "source": [
    "Create a function in python to insert spaces between words starting with capital letters.\n",
    "Sample Text: “RegularExpressionIsAnImportantTopicInPython\"\n",
    "Expected Output: Regular Expression Is An Important Topic In Python"
   ]
  },
  {
   "cell_type": "code",
   "execution_count": 268,
   "id": "496d3dde",
   "metadata": {},
   "outputs": [],
   "source": [
    "def sp(text):\n",
    "    pattern=r'([A-Z][a-z]+)'\n",
    "    result=re.sub(pattern,r' \\1',text)\n",
    "    print(result)"
   ]
  },
  {
   "cell_type": "code",
   "execution_count": 269,
   "id": "6060c028",
   "metadata": {
    "scrolled": true
   },
   "outputs": [
    {
     "name": "stdout",
     "output_type": "stream",
     "text": [
      " Regular Expression Is An Important Topic In Python\n"
     ]
    }
   ],
   "source": [
    "string='RegularExpressionIsAnImportantTopicInPython'\n",
    "sp(string)"
   ]
  },
  {
   "cell_type": "markdown",
   "id": "894eddb0",
   "metadata": {},
   "source": [
    "# 24"
   ]
  },
  {
   "cell_type": "raw",
   "id": "df1529df",
   "metadata": {},
   "source": [
    "Python regex to find sequences of one upper case letter followed by lower case letters"
   ]
  },
  {
   "cell_type": "code",
   "execution_count": 270,
   "id": "b2dffdb4",
   "metadata": {},
   "outputs": [
    {
     "name": "stdout",
     "output_type": "stream",
     "text": [
      "['Virat', 'Kohli', 'Scored', 'Season', 'The']\n"
     ]
    }
   ],
   "source": [
    "text='Virat Kohli Scored 973 runs in single Season of The I.pl2016'\n",
    "pattern=r'[A-Z][a-z]+'\n",
    "result=re.findall(pattern,text)\n",
    "print(result)"
   ]
  },
  {
   "cell_type": "markdown",
   "id": "d7e8b01f",
   "metadata": {},
   "source": [
    "# 25"
   ]
  },
  {
   "cell_type": "raw",
   "id": "b30f3d3b",
   "metadata": {},
   "source": [
    "Write a Python program to remove continuous duplicate words from Sentence using Regular Expression.\n",
    "Sample Text: \"Hello hello world world\"\n",
    "Expected Output: Hello hello world"
   ]
  },
  {
   "cell_type": "code",
   "execution_count": 273,
   "id": "bdea611f",
   "metadata": {},
   "outputs": [
    {
     "name": "stdout",
     "output_type": "stream",
     "text": [
      "Hello hello world\n"
     ]
    }
   ],
   "source": [
    "text='Hello hello world world'\n",
    "pattern=r'(\\w+)(?:\\W+\\1\\b)+'\n",
    "print(re.sub(pattern,r'\\1',text)) if re.findall(pattern,text) else print('No continuous duplicate words')"
   ]
  },
  {
   "cell_type": "markdown",
   "id": "1bbc5e0a",
   "metadata": {},
   "source": [
    "# 26"
   ]
  },
  {
   "cell_type": "raw",
   "id": "12e7271e",
   "metadata": {},
   "source": [
    "Write a python program using RegEx to accept string ending with alphanumeric character."
   ]
  },
  {
   "cell_type": "code",
   "execution_count": 280,
   "id": "ec4f419f",
   "metadata": {},
   "outputs": [
    {
     "name": "stdout",
     "output_type": "stream",
     "text": [
      "String accepted\n"
     ]
    }
   ],
   "source": [
    "text='Virat Kohli Scored 973 runs in single Season of The IPl2016'\n",
    "pattern=r'^\\w+.*[A-Za-z]+[0-9]+$'\n",
    "if re.search(pattern,text):\n",
    "    print('String accepted')\n",
    "else:\n",
    "    print('String not accepted')"
   ]
  },
  {
   "cell_type": "markdown",
   "id": "813476c2",
   "metadata": {},
   "source": [
    "# 27"
   ]
  },
  {
   "cell_type": "raw",
   "id": "d7183a99",
   "metadata": {},
   "source": [
    "Write a python program using RegEx to extract the hashtags.\n",
    "Sample Text:  \"\"\"RT @kapil_kausik: #Doltiwal I mean #xyzabc is \"hurt\" by #Demonetization as the same has rendered USELESS <ed><U+00A0><U+00BD><ed><U+00B1><U+0089> \"acquired funds\" No wo\"\"\"\n",
    "Expected Output: ['#Doltiwal', '#xyzabc', '#Demonetization']"
   ]
  },
  {
   "cell_type": "code",
   "execution_count": 285,
   "id": "19ec39cd",
   "metadata": {},
   "outputs": [
    {
     "name": "stdout",
     "output_type": "stream",
     "text": [
      "['#Doltiwal', '#xyzabc', '#Demonetization']\n"
     ]
    }
   ],
   "source": [
    "text='''RT @kapil_kaushik: #Doltiwal I mean #xyzabc is 'Hurt' by #Demonetization as the same has rendered USELESS <ed><U+00A0><U+00BD><ed>U+00B1><U+0089> 'acquired funds' No wo'''\n",
    "pattern=r'#\\w+'\n",
    "for hashtag in range(1):\n",
    "    result=re.findall(pattern,text)\n",
    "    print(result)"
   ]
  },
  {
   "cell_type": "markdown",
   "id": "2c6ed989",
   "metadata": {},
   "source": [
    "# 28"
   ]
  },
  {
   "cell_type": "raw",
   "id": "9e459d65",
   "metadata": {},
   "source": [
    "Write a python program using RegEx to remove <U+..> like symbols\n",
    "Check the below sample text, there are strange symbols something of the sort <U+..> all over the place. You need to come up with a general Regex expression that will cover all such symbols.\n",
    "Sample Text: \"@Jags123456 Bharat band on 28??<ed><U+00A0><U+00BD><ed><U+00B8><U+0082>Those who  are protesting #demonetization  are all different party leaders\"\n",
    "Expected Output: @Jags123456 Bharat band on 28??<ed><ed>Those who  are protesting #demonetization  are all different party leaders"
   ]
  },
  {
   "cell_type": "code",
   "execution_count": 286,
   "id": "d5026b7f",
   "metadata": {},
   "outputs": [
    {
     "name": "stdout",
     "output_type": "stream",
     "text": [
      "@Jags123456 Bharat band on 28??<ed><ed>Those who are protesting#demonetization are all different party leaders\n"
     ]
    }
   ],
   "source": [
    "text='@Jags123456 Bharat band on 28??<ed><U+00A0><U+00BD><ed><U+00B8><U+0082>Those who are protesting#demonetization are all different party leaders'\n",
    "pattern=r'<U\\+0{2}\\w+>'\n",
    "for i in range(1):\n",
    "    result=re.sub(pattern,'',text)\n",
    "    print(result)"
   ]
  },
  {
   "cell_type": "markdown",
   "id": "b0a1780a",
   "metadata": {},
   "source": [
    "# 29"
   ]
  },
  {
   "cell_type": "raw",
   "id": "6759e048",
   "metadata": {},
   "source": [
    "Write a python program to extract dates from the text stored in the text file.\n",
    "Sample Text: Ron was born on 12-09-1992 and he was admitted to school 15-12-1999.\n",
    "Note- Store this sample text in the file and then extract dates."
   ]
  },
  {
   "cell_type": "code",
   "execution_count": 287,
   "id": "0169d730",
   "metadata": {},
   "outputs": [],
   "source": [
    "file=open('C:/Fliprobo/text3.txt','w')\n",
    "file.write('Ron was born on 12-09-1992 and he was admitted to school 15-12-1999.')\n",
    "file.close()"
   ]
  },
  {
   "cell_type": "code",
   "execution_count": 289,
   "id": "273eb87f",
   "metadata": {},
   "outputs": [
    {
     "name": "stdout",
     "output_type": "stream",
     "text": [
      "['12-09-1992', '15-12-1999']\n"
     ]
    }
   ],
   "source": [
    "with open('C:/Fliprobo/text3.txt') as textfile:\n",
    "    for line in textfile:\n",
    "        result=re.findall(r'\\d{2}-\\d{2}-\\d{4}',line)\n",
    "        print(result)"
   ]
  },
  {
   "cell_type": "markdown",
   "id": "0f3376df",
   "metadata": {},
   "source": [
    "# 30"
   ]
  },
  {
   "cell_type": "raw",
   "id": "597ce271",
   "metadata": {},
   "source": [
    "Create a function in python to remove all words from a string of length between 2 and 4.\n",
    "The use of the re.compile() method is mandatory.\n",
    "Sample Text: \"The following example creates an ArrayList with a capacity of 50 elements. 4 elements are then added to the ArrayList and the ArrayList is trimmed accordingly.\"\n",
    "Expected Output:  following example creates ArrayList a capacity elements. 4 elements added ArrayList ArrayList trimmed accordingly."
   ]
  },
  {
   "cell_type": "code",
   "execution_count": 290,
   "id": "d85abd38",
   "metadata": {},
   "outputs": [],
   "source": [
    "def remove(text):\n",
    "    pattern=re.compile(r'\\b\\w{2,4}\\b')\n",
    "    result=pattern.sub('',text)\n",
    "    print(result)"
   ]
  },
  {
   "cell_type": "code",
   "execution_count": 291,
   "id": "46f48b6a",
   "metadata": {},
   "outputs": [
    {
     "name": "stdout",
     "output_type": "stream",
     "text": [
      " following example creates  ArrayList  a capacity   elements. 4 elements   added   ArrayList   ArrayList  trimmed accordingly\n"
     ]
    }
   ],
   "source": [
    "line='The following example creates an ArrayList with a capacity of 50 elements. 4 elements are then added to the ArrayList and the ArrayList is trimmed accordingly'\n",
    "remove(line)"
   ]
  }
 ],
 "metadata": {
  "kernelspec": {
   "display_name": "Python 3 (ipykernel)",
   "language": "python",
   "name": "python3"
  },
  "language_info": {
   "codemirror_mode": {
    "name": "ipython",
    "version": 3
   },
   "file_extension": ".py",
   "mimetype": "text/x-python",
   "name": "python",
   "nbconvert_exporter": "python",
   "pygments_lexer": "ipython3",
   "version": "3.10.9"
  }
 },
 "nbformat": 4,
 "nbformat_minor": 5
}
